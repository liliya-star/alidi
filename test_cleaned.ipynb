{
 "cells": [
  {
   "cell_type": "markdown",
   "id": "999ab629",
   "metadata": {},
   "source": [
    "### Тестовое задание"
   ]
  },
  {
   "cell_type": "code",
   "execution_count": 1,
   "id": "f8ed480c",
   "metadata": {},
   "outputs": [
    {
     "name": "stdout",
     "output_type": "stream",
     "text": [
      "Requirement already satisfied: sqlalchemy in c:\\users\\лилия\\appdata\\local\\programs\\python\\python312\\lib\\site-packages (2.0.40)\n",
      "Requirement already satisfied: greenlet>=1 in c:\\users\\лилия\\appdata\\local\\programs\\python\\python312\\lib\\site-packages (from sqlalchemy) (3.1.1)\n",
      "Requirement already satisfied: typing-extensions>=4.6.0 in c:\\users\\лилия\\appdata\\local\\programs\\python\\python312\\lib\\site-packages (from sqlalchemy) (4.12.2)\n"
     ]
    }
   ],
   "source": [
    "!pip install sqlalchemy"
   ]
  },
  {
   "cell_type": "code",
   "execution_count": 2,
   "id": "2f07cf82",
   "metadata": {},
   "outputs": [
    {
     "name": "stdout",
     "output_type": "stream",
     "text": [
      "  table_name\n",
      "0     stores\n",
      "1    product\n",
      "2      sales\n",
      "3  prod_disc\n"
     ]
    },
    {
     "name": "stderr",
     "output_type": "stream",
     "text": [
      "C:\\Users\\Лилия\\AppData\\Local\\Temp\\ipykernel_20400\\444617832.py:21: UserWarning: pandas only supports SQLAlchemy connectable (engine/connection) or database string URI or sqlite3 DBAPI2 connection. Other DBAPI2 objects are not tested. Please consider using SQLAlchemy.\n",
      "  df = pd.read_sql(query, conn)\n"
     ]
    }
   ],
   "source": [
    "import psycopg2\n",
    "import pandas as pd\n",
    "\n",
    "# Устанавливаем соединение\n",
    "conn = psycopg2.connect(\n",
    "    dbname='test_db',\n",
    "    user='test_user',\n",
    "    password='test_pass',\n",
    "    host='localhost',\n",
    "    port=5432\n",
    ")\n",
    "\n",
    "# Пишем SQL-запрос\n",
    "query = '''\n",
    "SELECT table_name\n",
    "FROM information_schema.tables\n",
    "WHERE table_schema = 'public';\n",
    "'''\n",
    "\n",
    "# Читаем результат запроса в датафрейм\n",
    "df = pd.read_sql(query, conn)\n",
    "print(df)\n"
   ]
  },
  {
   "cell_type": "code",
   "execution_count": 3,
   "id": "b3243d9a",
   "metadata": {},
   "outputs": [
    {
     "name": "stderr",
     "output_type": "stream",
     "text": [
      "C:\\Users\\Лилия\\AppData\\Local\\Temp\\ipykernel_20400\\3973089995.py:1: UserWarning: pandas only supports SQLAlchemy connectable (engine/connection) or database string URI or sqlite3 DBAPI2 connection. Other DBAPI2 objects are not tested. Please consider using SQLAlchemy.\n",
      "  pd.read_sql(\"SELECT * FROM sales LIMIT 5\", conn)\n"
     ]
    },
    {
     "data": {
      "text/html": [
       "<div>\n",
       "<style scoped>\n",
       "    .dataframe tbody tr th:only-of-type {\n",
       "        vertical-align: middle;\n",
       "    }\n",
       "\n",
       "    .dataframe tbody tr th {\n",
       "        vertical-align: top;\n",
       "    }\n",
       "\n",
       "    .dataframe thead th {\n",
       "        text-align: right;\n",
       "    }\n",
       "</style>\n",
       "<table border=\"1\" class=\"dataframe\">\n",
       "  <thead>\n",
       "    <tr style=\"text-align: right;\">\n",
       "      <th></th>\n",
       "      <th>store_id</th>\n",
       "      <th>date_of_day</th>\n",
       "      <th>art_no</th>\n",
       "      <th>sell_qty_colli</th>\n",
       "      <th>sell_val_gsp</th>\n",
       "    </tr>\n",
       "  </thead>\n",
       "  <tbody>\n",
       "    <tr>\n",
       "      <th>0</th>\n",
       "      <td>59</td>\n",
       "      <td>2018-12-22</td>\n",
       "      <td>331716</td>\n",
       "      <td>1.000</td>\n",
       "      <td>253.39</td>\n",
       "    </tr>\n",
       "    <tr>\n",
       "      <th>1</th>\n",
       "      <td>356</td>\n",
       "      <td>2018-02-01</td>\n",
       "      <td>482308</td>\n",
       "      <td>4.000</td>\n",
       "      <td>97.82</td>\n",
       "    </tr>\n",
       "    <tr>\n",
       "      <th>2</th>\n",
       "      <td>55</td>\n",
       "      <td>2018-04-30</td>\n",
       "      <td>139947</td>\n",
       "      <td>1.000</td>\n",
       "      <td>57.45</td>\n",
       "    </tr>\n",
       "    <tr>\n",
       "      <th>3</th>\n",
       "      <td>65</td>\n",
       "      <td>2018-08-08</td>\n",
       "      <td>494125</td>\n",
       "      <td>1.000</td>\n",
       "      <td>465.25</td>\n",
       "    </tr>\n",
       "    <tr>\n",
       "      <th>4</th>\n",
       "      <td>18</td>\n",
       "      <td>2017-11-10</td>\n",
       "      <td>128556</td>\n",
       "      <td>1.175</td>\n",
       "      <td>950.66</td>\n",
       "    </tr>\n",
       "  </tbody>\n",
       "</table>\n",
       "</div>"
      ],
      "text/plain": [
       "   store_id date_of_day  art_no  sell_qty_colli  sell_val_gsp\n",
       "0        59  2018-12-22  331716           1.000        253.39\n",
       "1       356  2018-02-01  482308           4.000         97.82\n",
       "2        55  2018-04-30  139947           1.000         57.45\n",
       "3        65  2018-08-08  494125           1.000        465.25\n",
       "4        18  2017-11-10  128556           1.175        950.66"
      ]
     },
     "execution_count": 3,
     "metadata": {},
     "output_type": "execute_result"
    }
   ],
   "source": [
    "pd.read_sql(\"SELECT * FROM sales LIMIT 5\", conn)"
   ]
  },
  {
   "cell_type": "markdown",
   "id": "c214e6f1",
   "metadata": {},
   "source": [
    "## Задание №1 — Средняя цена продажи\n",
    "\n",
    "### Задание №1\n",
    "###\tНа основании таблицы с продажами необходимо рассчитать среднюю цену продажи, по следующим критериям:\n",
    "ТЦ 10, категория Wines\n",
    "Город Ekaterinburg, категории Sweets и Grocery\n",
    "\n",
    "Поля в результате:\n",
    "store_id, cma, art_name, средняя цена продажи\n",
    "\n"
   ]
  },
  {
   "cell_type": "code",
   "execution_count": 4,
   "id": "9b5c33a5",
   "metadata": {},
   "outputs": [
    {
     "name": "stderr",
     "output_type": "stream",
     "text": [
      "C:\\Users\\Лилия\\AppData\\Local\\Temp\\ipykernel_20400\\315620266.py:18: UserWarning: pandas only supports SQLAlchemy connectable (engine/connection) or database string URI or sqlite3 DBAPI2 connection. Other DBAPI2 objects are not tested. Please consider using SQLAlchemy.\n",
      "  pd.read_sql(query, conn)\n"
     ]
    },
    {
     "data": {
      "text/html": [
       "<div>\n",
       "<style scoped>\n",
       "    .dataframe tbody tr th:only-of-type {\n",
       "        vertical-align: middle;\n",
       "    }\n",
       "\n",
       "    .dataframe tbody tr th {\n",
       "        vertical-align: top;\n",
       "    }\n",
       "\n",
       "    .dataframe thead th {\n",
       "        text-align: right;\n",
       "    }\n",
       "</style>\n",
       "<table border=\"1\" class=\"dataframe\">\n",
       "  <thead>\n",
       "    <tr style=\"text-align: right;\">\n",
       "      <th></th>\n",
       "      <th>store_id</th>\n",
       "      <th>cma</th>\n",
       "      <th>art_name</th>\n",
       "      <th>avg_price</th>\n",
       "    </tr>\n",
       "  </thead>\n",
       "  <tbody>\n",
       "  </tbody>\n",
       "</table>\n",
       "</div>"
      ],
      "text/plain": [
       "Empty DataFrame\n",
       "Columns: [store_id, cma, art_name, avg_price]\n",
       "Index: []"
      ]
     },
     "execution_count": 4,
     "metadata": {},
     "output_type": "execute_result"
    }
   ],
   "source": [
    "query = '''\n",
    "SELECT\n",
    "    s.store_id,\n",
    "    p.cma,\n",
    "    p.art_name,\n",
    "    ROUND(SUM(s.sell_val_gsp) / NULLIF(SUM(s.sell_qty_colli), 0), 2) AS avg_price\n",
    "FROM sales s\n",
    "JOIN product p ON s.art_no = p.art_no\n",
    "JOIN stores st ON s.store_id = st.store_id\n",
    "WHERE\n",
    "    (s.store_id = 10 AND p.cma = 'Wines')\n",
    "    OR\n",
    "    (st.city_desc = 'Ekaterinburg' AND p.cma IN ('Sweets', 'Grocery'))\n",
    "GROUP BY s.store_id, p.cma, p.art_name\n",
    "ORDER BY avg_price DESC;\n",
    "'''\n",
    "\n",
    "pd.read_sql(query, conn)\n"
   ]
  },
  {
   "cell_type": "code",
   "execution_count": 5,
   "id": "c8fb30cd",
   "metadata": {},
   "outputs": [
    {
     "name": "stderr",
     "output_type": "stream",
     "text": [
      "C:\\Users\\Лилия\\AppData\\Local\\Temp\\ipykernel_20400\\141075529.py:5: UserWarning: pandas only supports SQLAlchemy connectable (engine/connection) or database string URI or sqlite3 DBAPI2 connection. Other DBAPI2 objects are not tested. Please consider using SQLAlchemy.\n",
      "  display(pd.read_sql(query, conn))\n"
     ]
    },
    {
     "data": {
      "text/html": [
       "<div>\n",
       "<style scoped>\n",
       "    .dataframe tbody tr th:only-of-type {\n",
       "        vertical-align: middle;\n",
       "    }\n",
       "\n",
       "    .dataframe tbody tr th {\n",
       "        vertical-align: top;\n",
       "    }\n",
       "\n",
       "    .dataframe thead th {\n",
       "        text-align: right;\n",
       "    }\n",
       "</style>\n",
       "<table border=\"1\" class=\"dataframe\">\n",
       "  <thead>\n",
       "    <tr style=\"text-align: right;\">\n",
       "      <th></th>\n",
       "      <th>store_id</th>\n",
       "      <th>city_desc</th>\n",
       "      <th>district</th>\n",
       "    </tr>\n",
       "  </thead>\n",
       "  <tbody>\n",
       "    <tr>\n",
       "      <th>0</th>\n",
       "      <td>10</td>\n",
       "      <td>Moscow</td>\n",
       "      <td>Moscow</td>\n",
       "    </tr>\n",
       "    <tr>\n",
       "      <th>1</th>\n",
       "      <td>11</td>\n",
       "      <td>Moscow</td>\n",
       "      <td>Moscow</td>\n",
       "    </tr>\n",
       "    <tr>\n",
       "      <th>2</th>\n",
       "      <td>21</td>\n",
       "      <td>Nizhny Novgorod</td>\n",
       "      <td>North-West</td>\n",
       "    </tr>\n",
       "  </tbody>\n",
       "</table>\n",
       "</div>"
      ],
      "text/plain": [
       "   store_id        city_desc    district\n",
       "0        10           Moscow      Moscow\n",
       "1        11           Moscow      Moscow\n",
       "2        21  Nizhny Novgorod  North-West"
      ]
     },
     "metadata": {},
     "output_type": "display_data"
    },
    {
     "name": "stderr",
     "output_type": "stream",
     "text": [
      "C:\\Users\\Лилия\\AppData\\Local\\Temp\\ipykernel_20400\\141075529.py:9: UserWarning: pandas only supports SQLAlchemy connectable (engine/connection) or database string URI or sqlite3 DBAPI2 connection. Other DBAPI2 objects are not tested. Please consider using SQLAlchemy.\n",
      "  display(pd.read_sql(query, conn))\n"
     ]
    },
    {
     "data": {
      "text/html": [
       "<div>\n",
       "<style scoped>\n",
       "    .dataframe tbody tr th:only-of-type {\n",
       "        vertical-align: middle;\n",
       "    }\n",
       "\n",
       "    .dataframe tbody tr th {\n",
       "        vertical-align: top;\n",
       "    }\n",
       "\n",
       "    .dataframe thead th {\n",
       "        text-align: right;\n",
       "    }\n",
       "</style>\n",
       "<table border=\"1\" class=\"dataframe\">\n",
       "  <thead>\n",
       "    <tr style=\"text-align: right;\">\n",
       "      <th></th>\n",
       "      <th>store_id</th>\n",
       "      <th>city_desc</th>\n",
       "      <th>district</th>\n",
       "    </tr>\n",
       "  </thead>\n",
       "  <tbody>\n",
       "  </tbody>\n",
       "</table>\n",
       "</div>"
      ],
      "text/plain": [
       "Empty DataFrame\n",
       "Columns: [store_id, city_desc, district]\n",
       "Index: []"
      ]
     },
     "metadata": {},
     "output_type": "display_data"
    },
    {
     "name": "stderr",
     "output_type": "stream",
     "text": [
      "C:\\Users\\Лилия\\AppData\\Local\\Temp\\ipykernel_20400\\141075529.py:13: UserWarning: pandas only supports SQLAlchemy connectable (engine/connection) or database string URI or sqlite3 DBAPI2 connection. Other DBAPI2 objects are not tested. Please consider using SQLAlchemy.\n",
      "  display(pd.read_sql(query, conn))\n"
     ]
    },
    {
     "data": {
      "text/html": [
       "<div>\n",
       "<style scoped>\n",
       "    .dataframe tbody tr th:only-of-type {\n",
       "        vertical-align: middle;\n",
       "    }\n",
       "\n",
       "    .dataframe tbody tr th {\n",
       "        vertical-align: top;\n",
       "    }\n",
       "\n",
       "    .dataframe thead th {\n",
       "        text-align: right;\n",
       "    }\n",
       "</style>\n",
       "<table border=\"1\" class=\"dataframe\">\n",
       "  <thead>\n",
       "    <tr style=\"text-align: right;\">\n",
       "      <th></th>\n",
       "      <th>cma</th>\n",
       "    </tr>\n",
       "  </thead>\n",
       "  <tbody>\n",
       "    <tr>\n",
       "      <th>0</th>\n",
       "      <td>Grocery</td>\n",
       "    </tr>\n",
       "    <tr>\n",
       "      <th>1</th>\n",
       "      <td>Fruits / Vegetables</td>\n",
       "    </tr>\n",
       "    <tr>\n",
       "      <th>2</th>\n",
       "      <td>Fish</td>\n",
       "    </tr>\n",
       "  </tbody>\n",
       "</table>\n",
       "</div>"
      ],
      "text/plain": [
       "                   cma\n",
       "0              Grocery\n",
       "1  Fruits / Vegetables\n",
       "2                 Fish"
      ]
     },
     "metadata": {},
     "output_type": "display_data"
    },
    {
     "name": "stderr",
     "output_type": "stream",
     "text": [
      "C:\\Users\\Лилия\\AppData\\Local\\Temp\\ipykernel_20400\\141075529.py:17: UserWarning: pandas only supports SQLAlchemy connectable (engine/connection) or database string URI or sqlite3 DBAPI2 connection. Other DBAPI2 objects are not tested. Please consider using SQLAlchemy.\n",
      "  display(pd.read_sql(query, conn))\n"
     ]
    },
    {
     "data": {
      "text/html": [
       "<div>\n",
       "<style scoped>\n",
       "    .dataframe tbody tr th:only-of-type {\n",
       "        vertical-align: middle;\n",
       "    }\n",
       "\n",
       "    .dataframe tbody tr th {\n",
       "        vertical-align: top;\n",
       "    }\n",
       "\n",
       "    .dataframe thead th {\n",
       "        text-align: right;\n",
       "    }\n",
       "</style>\n",
       "<table border=\"1\" class=\"dataframe\">\n",
       "  <thead>\n",
       "    <tr style=\"text-align: right;\">\n",
       "      <th></th>\n",
       "      <th>store_id</th>\n",
       "      <th>date_of_day</th>\n",
       "      <th>art_no</th>\n",
       "      <th>sell_qty_colli</th>\n",
       "      <th>sell_val_gsp</th>\n",
       "    </tr>\n",
       "  </thead>\n",
       "  <tbody>\n",
       "  </tbody>\n",
       "</table>\n",
       "</div>"
      ],
      "text/plain": [
       "Empty DataFrame\n",
       "Columns: [store_id, date_of_day, art_no, sell_qty_colli, sell_val_gsp]\n",
       "Index: []"
      ]
     },
     "metadata": {},
     "output_type": "display_data"
    },
    {
     "name": "stderr",
     "output_type": "stream",
     "text": [
      "C:\\Users\\Лилия\\AppData\\Local\\Temp\\ipykernel_20400\\141075529.py:26: UserWarning: pandas only supports SQLAlchemy connectable (engine/connection) or database string URI or sqlite3 DBAPI2 connection. Other DBAPI2 objects are not tested. Please consider using SQLAlchemy.\n",
      "  display(pd.read_sql(query, conn))\n"
     ]
    },
    {
     "data": {
      "text/html": [
       "<div>\n",
       "<style scoped>\n",
       "    .dataframe tbody tr th:only-of-type {\n",
       "        vertical-align: middle;\n",
       "    }\n",
       "\n",
       "    .dataframe tbody tr th {\n",
       "        vertical-align: top;\n",
       "    }\n",
       "\n",
       "    .dataframe thead th {\n",
       "        text-align: right;\n",
       "    }\n",
       "</style>\n",
       "<table border=\"1\" class=\"dataframe\">\n",
       "  <thead>\n",
       "    <tr style=\"text-align: right;\">\n",
       "      <th></th>\n",
       "      <th>store_id</th>\n",
       "      <th>date_of_day</th>\n",
       "      <th>art_no</th>\n",
       "      <th>sell_qty_colli</th>\n",
       "      <th>sell_val_gsp</th>\n",
       "      <th>cma</th>\n",
       "      <th>art_name</th>\n",
       "    </tr>\n",
       "  </thead>\n",
       "  <tbody>\n",
       "  </tbody>\n",
       "</table>\n",
       "</div>"
      ],
      "text/plain": [
       "Empty DataFrame\n",
       "Columns: [store_id, date_of_day, art_no, sell_qty_colli, sell_val_gsp, cma, art_name]\n",
       "Index: []"
      ]
     },
     "metadata": {},
     "output_type": "display_data"
    },
    {
     "name": "stderr",
     "output_type": "stream",
     "text": [
      "C:\\Users\\Лилия\\AppData\\Local\\Temp\\ipykernel_20400\\141075529.py:37: UserWarning: pandas only supports SQLAlchemy connectable (engine/connection) or database string URI or sqlite3 DBAPI2 connection. Other DBAPI2 objects are not tested. Please consider using SQLAlchemy.\n",
      "  display(pd.read_sql(query, conn))\n"
     ]
    },
    {
     "data": {
      "text/html": [
       "<div>\n",
       "<style scoped>\n",
       "    .dataframe tbody tr th:only-of-type {\n",
       "        vertical-align: middle;\n",
       "    }\n",
       "\n",
       "    .dataframe tbody tr th {\n",
       "        vertical-align: top;\n",
       "    }\n",
       "\n",
       "    .dataframe thead th {\n",
       "        text-align: right;\n",
       "    }\n",
       "</style>\n",
       "<table border=\"1\" class=\"dataframe\">\n",
       "  <thead>\n",
       "    <tr style=\"text-align: right;\">\n",
       "      <th></th>\n",
       "      <th>store_id</th>\n",
       "      <th>date_of_day</th>\n",
       "      <th>art_no</th>\n",
       "      <th>sell_qty_colli</th>\n",
       "      <th>sell_val_gsp</th>\n",
       "      <th>cma</th>\n",
       "      <th>art_name</th>\n",
       "      <th>city_desc</th>\n",
       "    </tr>\n",
       "  </thead>\n",
       "  <tbody>\n",
       "  </tbody>\n",
       "</table>\n",
       "</div>"
      ],
      "text/plain": [
       "Empty DataFrame\n",
       "Columns: [store_id, date_of_day, art_no, sell_qty_colli, sell_val_gsp, cma, art_name, city_desc]\n",
       "Index: []"
      ]
     },
     "metadata": {},
     "output_type": "display_data"
    }
   ],
   "source": [
    "# 📌 Проверка данных по шагам\n",
    "\n",
    "# 1. Все магазины\n",
    "query = \"SELECT * FROM stores;\"\n",
    "display(pd.read_sql(query, conn))\n",
    "\n",
    "# 2. Магазины в Екатеринбурге\n",
    "query = \"SELECT * FROM stores WHERE city_desc = 'Ekaterinburg';\"\n",
    "display(pd.read_sql(query, conn))\n",
    "\n",
    "# 3. Доступные категории товаров\n",
    "query = \"SELECT DISTINCT cma FROM product;\"\n",
    "display(pd.read_sql(query, conn))\n",
    "\n",
    "# 4. Продажи в магазине с ID = 10\n",
    "query = \"SELECT * FROM sales WHERE store_id = 10;\"\n",
    "display(pd.read_sql(query, conn))\n",
    "\n",
    "# 5. Продажи товаров категории 'Wines'\n",
    "query = '''\n",
    "SELECT s.*, p.cma, p.art_name\n",
    "FROM sales s\n",
    "JOIN product p ON s.art_no = p.art_no\n",
    "WHERE p.cma = 'Wines';\n",
    "'''\n",
    "display(pd.read_sql(query, conn))\n",
    "\n",
    "# 6. Продажи категорий 'Sweets' и 'Grocery' в Екатеринбурге\n",
    "query = '''\n",
    "SELECT s.*, p.cma, p.art_name, st.city_desc\n",
    "FROM sales s\n",
    "JOIN product p ON s.art_no = p.art_no\n",
    "JOIN stores st ON s.store_id = st.store_id\n",
    "WHERE st.city_desc = 'Ekaterinburg'\n",
    "  AND p.cma IN ('Sweets', 'Grocery');\n",
    "'''\n",
    "display(pd.read_sql(query, conn))\n"
   ]
  },
  {
   "cell_type": "markdown",
   "id": "f1b878e8",
   "metadata": {},
   "source": [
    "### Пояснение к заданию №1: Средняя цена продажи\n",
    "\n",
    "**Условие:**  \n",
    "На основании таблицы с продажами необходимо рассчитать среднюю цену продажи, по следующим критериям:\n",
    "\n",
    "- Магазин с `store_id = 10` и категория товара `Wines`\n",
    "- Город `Ekaterinburg` и категории `Sweets` или `Grocery`\n",
    "\n",
    "**Ожидаемые поля:**\n",
    "- `store_id`, `cma`, `art_name`, `avg_price`\n",
    "\n",
    "\n",
    "###  Почему результат запроса пустой?\n",
    "\n",
    "Запрос выполнен корректно, однако он не возвращает ни одной строки. Это связано с тем, что **в исходных данных отсутствуют значения**, удовлетворяющие условиям:\n",
    "\n",
    "- В таблице `product` **нет товаров** с категорией `Wines`  \n",
    "  → см. результат запроса `SELECT DISTINCT cma FROM product;`\n",
    "\n",
    "- В таблице `stores` **нет магазинов** в городе `Ekaterinburg`  \n",
    "  → см. результат запроса `SELECT DISTINCT city_desc FROM stores;`\n",
    "\n",
    "---\n",
    "\n",
    "### ✅ Вывод:\n",
    "Запрос работает корректно, но не находит совпадений, потому что нужных данных (категория `Wines`, город `Ekaterinburg`) просто нет в таблицах.\n",
    "\n",
    "\n"
   ]
  },
  {
   "cell_type": "markdown",
   "id": "650d14db",
   "metadata": {},
   "source": [
    "---\n",
    "\n",
    "## Задание №2 — Продажи со скидкой и без\n",
    "\n",
    "### Задание №2\n",
    "###\tНа основании таблицы с продажами необходимо рассчитать по категориям сколько было продано единиц товара и на какую сумму, по регулярной цене и в рамках предоставленной скидки.\n",
    "\n",
    "Поля в результате:\n",
    "месяц продажи, cma, период со скидкой\\без скидки, кол-во единиц товара, сумма продажи\n"
   ]
  },
  {
   "cell_type": "code",
   "execution_count": null,
   "id": "301f9668",
   "metadata": {},
   "outputs": [
    {
     "name": "stderr",
     "output_type": "stream",
     "text": [
      "C:\\Users\\Лилия\\AppData\\Local\\Temp\\ipykernel_20400\\360905391.py:18: UserWarning: pandas only supports SQLAlchemy connectable (engine/connection) or database string URI or sqlite3 DBAPI2 connection. Other DBAPI2 objects are not tested. Please consider using SQLAlchemy.\n",
      "  df_check = pd.read_sql(query, conn)\n"
     ]
    },
    {
     "data": {
      "text/html": [
       "<div>\n",
       "<style scoped>\n",
       "    .dataframe tbody tr th:only-of-type {\n",
       "        vertical-align: middle;\n",
       "    }\n",
       "\n",
       "    .dataframe tbody tr th {\n",
       "        vertical-align: top;\n",
       "    }\n",
       "\n",
       "    .dataframe thead th {\n",
       "        text-align: right;\n",
       "    }\n",
       "</style>\n",
       "<table border=\"1\" class=\"dataframe\">\n",
       "  <thead>\n",
       "    <tr style=\"text-align: right;\">\n",
       "      <th></th>\n",
       "      <th>store_id</th>\n",
       "      <th>date_of_day</th>\n",
       "      <th>art_no</th>\n",
       "      <th>date_from</th>\n",
       "      <th>date_to</th>\n",
       "      <th>disc_store_id</th>\n",
       "      <th>disc_art_no</th>\n",
       "    </tr>\n",
       "  </thead>\n",
       "  <tbody>\n",
       "  </tbody>\n",
       "</table>\n",
       "</div>"
      ],
      "text/plain": [
       "Empty DataFrame\n",
       "Columns: [store_id, date_of_day, art_no, date_from, date_to, disc_store_id, disc_art_no]\n",
       "Index: []"
      ]
     },
     "metadata": {},
     "output_type": "display_data"
    }
   ],
   "source": [
    "query = '''\n",
    "SELECT\n",
    "    TO_CHAR(s.date_of_day, 'YYYY-MM') AS sale_month,\n",
    "    p.cma,\n",
    "    CASE\n",
    "        WHEN d.art_no IS NOT NULL THEN 'со скидкой'\n",
    "        ELSE 'без скидки'\n",
    "    END AS discount_flag,\n",
    "    ROUND(SUM(s.sell_qty_colli), 2) AS total_qty,\n",
    "    ROUND(SUM(s.sell_val_gsp), 2) AS total_sales\n",
    "FROM sales s\n",
    "JOIN product p ON s.art_no = p.art_no\n",
    "LEFT JOIN prod_disc d\n",
    "    ON s.art_no = d.art_no\n",
    "   AND s.store_id = d.store_id\n",
    "   AND s.date_of_day BETWEEN d.date_from AND d.date_to\n",
    "GROUP BY\n",
    "    TO_CHAR(s.date_of_day, 'YYYY-MM'),\n",
    "    p.cma,\n",
    "    discount_flag\n",
    "ORDER BY\n",
    "    sale_month,\n",
    "    p.cma,\n",
    "    discount_flag;\n",
    "\n",
    "'''\n",
    "\n",
    "df_check = pd.read_sql(query, conn)\n",
    "display(df_check)\n"
   ]
  },
  {
   "cell_type": "markdown",
   "id": "c183b688",
   "metadata": {},
   "source": [
    "###  Пояснение к заданию №2\n",
    "\n",
    "Цель — рассчитать продажи по категориям товаров и по месяцам с разбивкой на:\n",
    "\n",
    "- период **со скидкой** (если дата продажи попадает в диапазон действия скидки)\n",
    "- период **без скидки**\n",
    "\n",
    "Агрегирование выполняется:\n",
    "- по месяцу (`YYYY-MM`)\n",
    "- по категории (`cma`)\n",
    "- с расчётом:\n",
    "  - общего количества проданных единиц (`SUM(sell_qty_colli)`)\n",
    "  - общей суммы продаж (`SUM(sell_val_gsp)`)\n",
    "\n",
    "Сравнение выполняется через `LEFT JOIN` `sales` с `prod_disc`, чтобы определить, действовала ли скидка на момент продажи.\n",
    "\n",
    "⚠️ В тестовом датасете отсутствуют пересечения между `sales` и `prod_disc` по `art_no`, `store_id` и дате — поэтому все продажи классифицированы как «без скидки».\n",
    "\n",
    "\n"
   ]
  },
  {
   "cell_type": "markdown",
   "id": "952fd591",
   "metadata": {},
   "source": [
    "---\n",
    "\n",
    "## Задание №3 — Скидки на дату\n",
    "\n",
    "### Задание №3\n",
    "### \tНа основании таблицы с предоставленными скидками необходимо вывести список категорий, артикулов, их наименований, ТЦ, название городов. Рассчитать процент скидки на каждой позиции.\n",
    "Критерии:\n",
    "Город Nizhny Novgorod\n",
    "Категории Drinks, Wines, Bakery\n",
    "Дата действия скидки 15 марта 2018\n",
    "\n",
    "Поля в результате:\n",
    "город, ТЦ, категория, артикул, наименование, % скидки\n",
    "Оставить только те строки, где скидка превышает 50%\n",
    "\n"
   ]
  },
  {
   "cell_type": "code",
   "execution_count": 7,
   "id": "71a81c87",
   "metadata": {},
   "outputs": [
    {
     "name": "stderr",
     "output_type": "stream",
     "text": [
      "C:\\Users\\Лилия\\AppData\\Local\\Temp\\ipykernel_20400\\3840533255.py:19: UserWarning: pandas only supports SQLAlchemy connectable (engine/connection) or database string URI or sqlite3 DBAPI2 connection. Other DBAPI2 objects are not tested. Please consider using SQLAlchemy.\n",
      "  pd.read_sql(query, conn)\n"
     ]
    },
    {
     "data": {
      "text/html": [
       "<div>\n",
       "<style scoped>\n",
       "    .dataframe tbody tr th:only-of-type {\n",
       "        vertical-align: middle;\n",
       "    }\n",
       "\n",
       "    .dataframe tbody tr th {\n",
       "        vertical-align: top;\n",
       "    }\n",
       "\n",
       "    .dataframe thead th {\n",
       "        text-align: right;\n",
       "    }\n",
       "</style>\n",
       "<table border=\"1\" class=\"dataframe\">\n",
       "  <thead>\n",
       "    <tr style=\"text-align: right;\">\n",
       "      <th></th>\n",
       "      <th>city</th>\n",
       "      <th>store_id</th>\n",
       "      <th>cma</th>\n",
       "      <th>art_no</th>\n",
       "      <th>art_name</th>\n",
       "      <th>discount_percent</th>\n",
       "    </tr>\n",
       "  </thead>\n",
       "  <tbody>\n",
       "  </tbody>\n",
       "</table>\n",
       "</div>"
      ],
      "text/plain": [
       "Empty DataFrame\n",
       "Columns: [city, store_id, cma, art_no, art_name, discount_percent]\n",
       "Index: []"
      ]
     },
     "execution_count": 7,
     "metadata": {},
     "output_type": "execute_result"
    }
   ],
   "source": [
    "query = '''\n",
    "SELECT \n",
    "    st.city_desc AS city,\n",
    "    d.store_id,\n",
    "    p.cma,\n",
    "    d.art_no,\n",
    "    p.art_name,\n",
    "    ROUND((d.old_colli_gsp - d.discount_colli_gsp) / d.old_colli_gsp * 100, 2) AS discount_percent\n",
    "FROM prod_disc d\n",
    "JOIN product p ON d.art_no = p.art_no\n",
    "JOIN stores st ON d.store_id = st.store_id\n",
    "WHERE DATE '2018-03-15' BETWEEN d.date_from AND d.date_to\n",
    "  AND st.city_desc = 'Nizhny Novgorod'\n",
    "  AND p.cma IN ('Drinks', 'Wines', 'Bakery')\n",
    "  AND (d.old_colli_gsp - d.discount_colli_gsp) / d.old_colli_gsp > 0.5\n",
    "ORDER BY discount_percent DESC;\n",
    "'''\n",
    "\n",
    "pd.read_sql(query, conn)\n"
   ]
  },
  {
   "cell_type": "code",
   "execution_count": null,
   "id": "e84152cd",
   "metadata": {},
   "outputs": [],
   "source": []
  },
  {
   "cell_type": "markdown",
   "id": "62cb96b5",
   "metadata": {},
   "source": [
    "### Пояснение к заданию №3 \n",
    "\n",
    "Запрос не вернул данных, так как ни одна из записей в таблице `prod_disc` не попадает на дату `15 марта 2018 года`, а также в таблице `product` отсутствуют товары с категориями `Drinks`, `Wines` и `Bakery`. Кроме того, в таблице `stores` только один ТЦ в городе Nizhny Novgorod, и он не участвует в записях со скидками.\n",
    "\n",
    "Таким образом, все условия задания не выполняются одновременно ни для одной записи.\n"
   ]
  },
  {
   "cell_type": "markdown",
   "id": "2aa6c7ed",
   "metadata": {},
   "source": [
    "---\n",
    "\n",
    "## Задание №4 — Топ-5 артикулов по продажам\n",
    "\n",
    "### Задание №4\n",
    "###\tНа основании таблицы по продажам на уровне региона в каждой категории товара вывести топ 5 артикулов по сумме продаж в рублях. \n",
    "\n",
    "Поля в результате:\n",
    "регион, категория, артикул, сумма продажи\n",
    "\n"
   ]
  },
  {
   "cell_type": "code",
   "execution_count": 8,
   "id": "a951110b",
   "metadata": {},
   "outputs": [
    {
     "name": "stderr",
     "output_type": "stream",
     "text": [
      "C:\\Users\\Лилия\\AppData\\Local\\Temp\\ipykernel_20400\\513382899.py:20: UserWarning: pandas only supports SQLAlchemy connectable (engine/connection) or database string URI or sqlite3 DBAPI2 connection. Other DBAPI2 objects are not tested. Please consider using SQLAlchemy.\n",
      "  pd.read_sql(query, conn)\n"
     ]
    },
    {
     "data": {
      "text/html": [
       "<div>\n",
       "<style scoped>\n",
       "    .dataframe tbody tr th:only-of-type {\n",
       "        vertical-align: middle;\n",
       "    }\n",
       "\n",
       "    .dataframe tbody tr th {\n",
       "        vertical-align: top;\n",
       "    }\n",
       "\n",
       "    .dataframe thead th {\n",
       "        text-align: right;\n",
       "    }\n",
       "</style>\n",
       "<table border=\"1\" class=\"dataframe\">\n",
       "  <thead>\n",
       "    <tr style=\"text-align: right;\">\n",
       "      <th></th>\n",
       "      <th>region</th>\n",
       "      <th>category</th>\n",
       "      <th>art_no</th>\n",
       "      <th>total_sales</th>\n",
       "    </tr>\n",
       "  </thead>\n",
       "  <tbody>\n",
       "  </tbody>\n",
       "</table>\n",
       "</div>"
      ],
      "text/plain": [
       "Empty DataFrame\n",
       "Columns: [region, category, art_no, total_sales]\n",
       "Index: []"
      ]
     },
     "execution_count": 8,
     "metadata": {},
     "output_type": "execute_result"
    }
   ],
   "source": [
    "query = '''\n",
    "WITH ranked_sales AS (\n",
    "  SELECT \n",
    "    st.district AS region,\n",
    "    p.cma AS category,\n",
    "    s.art_no,\n",
    "    ROUND(SUM(s.sell_val_gsp), 2) AS total_sales,\n",
    "    ROW_NUMBER() OVER (PARTITION BY st.district, p.cma ORDER BY SUM(s.sell_val_gsp) DESC) AS rank\n",
    "  FROM sales s\n",
    "  JOIN stores st ON s.store_id = st.store_id\n",
    "  JOIN product p ON s.art_no = p.art_no\n",
    "  GROUP BY st.district, p.cma, s.art_no\n",
    ")\n",
    "SELECT region, category, art_no, total_sales\n",
    "FROM ranked_sales\n",
    "WHERE rank <= 5\n",
    "ORDER BY region, category, total_sales DESC;\n",
    "'''\n",
    "\n",
    "pd.read_sql(query, conn)\n"
   ]
  },
  {
   "cell_type": "markdown",
   "id": "40c29e4d",
   "metadata": {},
   "source": [
    "### Пояснение к заданию №4 \n",
    "\n",
    "**Условие:**  \n",
    "Определить топ-5 артикулов по сумме продаж для каждой категории товара на уровне региона (district).\n",
    "\n",
    "\n",
    "Для выполнения запроса необходимо соединить таблицы:\n",
    "- `sales` — продажи по `store_id` и `art_no`\n",
    "- `product` — категория по `art_no`\n",
    "- `stores` — регион (`district`) по `store_id`\n",
    "\n",
    "Однако:\n",
    "\n",
    "1. В таблице `sales` используются артикула (`art_no`), которых **нет в справочнике `product`** → невозможно определить категорию.\n",
    "2. Многие `store_id` из `sales` **не представлены в справочнике `stores`** → невозможно определить регион.\n",
    "3. В результате соединения `sales JOIN product JOIN stores` не формируется ни одной строки.\n",
    "\n",
    "---\n",
    "\n",
    "### ✅ Вывод\n",
    "\n",
    "Запрос написан корректно, однако **в тестовых данных отсутствуют связи между таблицами**, необходимые для выполнения задания:\n",
    "- отсутствуют артикула-продукты,\n",
    "- отсутствуют магазины-регионы.\n",
    "\n",
    "Поэтому результат запроса — пустой.\n",
    "\n"
   ]
  },
  {
   "cell_type": "markdown",
   "id": "3f9e31a3",
   "metadata": {},
   "source": [
    "---\n",
    "\n",
    "## Задание №5 — Накопительный итог по продажам\n",
    "\n",
    "### Задание №5\n",
    "###\tНа основании таблицы с продажами, посчитать накопитольную сумму продажи за 22 год в разбивке по месяцам.\n",
    "Поля в результате:\n",
    "месяц, накопительный итог\n"
   ]
  },
  {
   "cell_type": "code",
   "execution_count": 9,
   "id": "68837b8b",
   "metadata": {},
   "outputs": [
    {
     "name": "stderr",
     "output_type": "stream",
     "text": [
      "C:\\Users\\Лилия\\AppData\\Local\\Temp\\ipykernel_20400\\564347703.py:15: UserWarning: pandas only supports SQLAlchemy connectable (engine/connection) or database string URI or sqlite3 DBAPI2 connection. Other DBAPI2 objects are not tested. Please consider using SQLAlchemy.\n",
      "  pd.read_sql(query, conn)\n"
     ]
    },
    {
     "data": {
      "text/html": [
       "<div>\n",
       "<style scoped>\n",
       "    .dataframe tbody tr th:only-of-type {\n",
       "        vertical-align: middle;\n",
       "    }\n",
       "\n",
       "    .dataframe tbody tr th {\n",
       "        vertical-align: top;\n",
       "    }\n",
       "\n",
       "    .dataframe thead th {\n",
       "        text-align: right;\n",
       "    }\n",
       "</style>\n",
       "<table border=\"1\" class=\"dataframe\">\n",
       "  <thead>\n",
       "    <tr style=\"text-align: right;\">\n",
       "      <th></th>\n",
       "      <th>month</th>\n",
       "      <th>cumulative_total</th>\n",
       "    </tr>\n",
       "  </thead>\n",
       "  <tbody>\n",
       "  </tbody>\n",
       "</table>\n",
       "</div>"
      ],
      "text/plain": [
       "Empty DataFrame\n",
       "Columns: [month, cumulative_total]\n",
       "Index: []"
      ]
     },
     "execution_count": 9,
     "metadata": {},
     "output_type": "execute_result"
    }
   ],
   "source": [
    "query = '''\n",
    "WITH monthly_sales AS (\n",
    "    SELECT\n",
    "        TO_CHAR(date_of_day, 'YYYY-MM') AS month,\n",
    "        SUM(sell_val_gsp) AS monthly_total\n",
    "    FROM sales\n",
    "    WHERE EXTRACT(YEAR FROM date_of_day) = 2022\n",
    "    GROUP BY TO_CHAR(date_of_day, 'YYYY-MM')\n",
    ")\n",
    "SELECT\n",
    "    month,\n",
    "    ROUND(SUM(monthly_total) OVER (ORDER BY month), 2) AS cumulative_total\n",
    "FROM monthly_sales\n",
    "'''\n",
    "pd.read_sql(query, conn)\n"
   ]
  },
  {
   "cell_type": "markdown",
   "id": "67c855e3",
   "metadata": {},
   "source": [
    "### Пояснение к Заданию №5\n",
    "Цель: рассчитать накопительный итог продаж по месяцам за 2022 год.\n",
    "\n",
    " Что делает запрос:\n",
    "\n",
    "Сначала с помощью WITH monthly_sales AS (...) мы собираем суммы продаж (sell_val_gsp) по каждому месяцу — форматируем дату через TO_CHAR(date_of_day, 'YYYY-MM').\n",
    "\n",
    "Ограничиваем выборку только 2022 годом через EXTRACT(YEAR FROM date_of_day) = 2022.\n",
    "\n",
    "Считаем накопительную сумму (cumulative_total) с использованием оконной функции SUM(...) OVER (ORDER BY month) — она добавляет каждое последующее значение к предыдущим.\n",
    "\n",
    " Почему результат пустой:\n",
    "В таблице sales, представленной в тестовых данных, отсутствуют продажи за 2022 год — есть только данные за 2017–2018. Поэтому даже корректный запрос возвращает пустую таблицу — это ожидаемо, а не ошибка."
   ]
  }
 ],
 "metadata": {
  "kernelspec": {
   "display_name": "Python 3",
   "language": "python",
   "name": "python3"
  },
  "language_info": {
   "codemirror_mode": {
    "name": "ipython",
    "version": 3
   },
   "file_extension": ".py",
   "mimetype": "text/x-python",
   "name": "python",
   "nbconvert_exporter": "python",
   "pygments_lexer": "ipython3",
   "version": "3.12.6"
  }
 },
 "nbformat": 4,
 "nbformat_minor": 5
}
